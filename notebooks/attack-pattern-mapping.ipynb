{
 "cells": [
  {
   "cell_type": "code",
   "execution_count": 1,
   "id": "a1220e26",
   "metadata": {},
   "outputs": [
    {
     "name": "stderr",
     "output_type": "stream",
     "text": [
      "c:\\users\\xashr\\appdata\\local\\programs\\python\\python38\\lib\\site-packages\\scipy\\__init__.py:146: UserWarning: A NumPy version >=1.16.5 and <1.23.0 is required for this version of SciPy (detected version 1.23.4\n",
      "  warnings.warn(f\"A NumPy version >={np_minversion} and <{np_maxversion}\"\n"
     ]
    }
   ],
   "source": [
    "import os\n",
    "import json\n",
    "from scipy import spatial\n",
    "from sentence_transformers import SentenceTransformer\n",
    "import pandas as pd\n",
    "import nltk"
   ]
  },
  {
   "cell_type": "code",
   "execution_count": 2,
   "id": "180dc4a6",
   "metadata": {},
   "outputs": [],
   "source": [
    "bert_model = SentenceTransformer('all-mpnet-base-v2')"
   ]
  },
  {
   "cell_type": "code",
   "execution_count": 3,
   "id": "080dae39",
   "metadata": {},
   "outputs": [],
   "source": [
    "df = pd.read_csv('experiments-new - enterprise-techniques.csv')"
   ]
  },
  {
   "cell_type": "code",
   "execution_count": 4,
   "id": "00a9d955",
   "metadata": {},
   "outputs": [],
   "source": [
    "attack_pattern_dict = {} \n",
    "technique_mapping = {}\n",
    "\n",
    "prev_id = None\n",
    "\n",
    "for _, row in df.iterrows():\n",
    "    _id = row['ID']\n",
    "    if not pd.isnull(_id):\n",
    "        attack_pattern_dict[_id] = [[row['Name'], row['Description']]]\n",
    "        prev_id = _id\n",
    "        technique_mapping[row['Name']] = _id\n",
    "    else:\n",
    "        attack_pattern_dict[prev_id].append([row['Name'], row['Description']])\n",
    "        technique_mapping[row['Name']] = prev_id"
   ]
  },
  {
   "cell_type": "code",
   "execution_count": 10,
   "id": "4224d16a",
   "metadata": {},
   "outputs": [
    {
     "data": {
      "text/plain": [
       "191"
      ]
     },
     "execution_count": 10,
     "metadata": {},
     "output_type": "execute_result"
    }
   ],
   "source": [
    "len(attack_pattern_dict)"
   ]
  },
  {
   "cell_type": "code",
   "execution_count": 20,
   "id": "6532be7e",
   "metadata": {},
   "outputs": [],
   "source": [
    "# attack_pattern_dict"
   ]
  },
  {
   "cell_type": "code",
   "execution_count": 21,
   "id": "a6ef6717",
   "metadata": {},
   "outputs": [],
   "source": [
    "embedding_memo = {}"
   ]
  },
  {
   "cell_type": "code",
   "execution_count": 22,
   "id": "eaa1df80",
   "metadata": {},
   "outputs": [],
   "source": [
    "def get_embedding(txt):\n",
    "    if txt in embedding_memo:\n",
    "        return embedding_memo[txt]\n",
    "    emb = bert_model.encode([txt])[0]\n",
    "    embedding_memo[txt] = emb\n",
    "    return emb"
   ]
  },
  {
   "cell_type": "code",
   "execution_count": 23,
   "id": "48e33c29",
   "metadata": {},
   "outputs": [],
   "source": [
    "def get_embedding_distance(txt1, txt2):\n",
    "    p1 = get_embedding(txt1)\n",
    "    p2 = get_embedding(txt2)\n",
    "    score = spatial.distance.cosine(p1, p2)\n",
    "    return score"
   ]
  },
  {
   "cell_type": "code",
   "execution_count": 37,
   "id": "48027766",
   "metadata": {},
   "outputs": [],
   "source": [
    "import Levenshtein\n",
    "\n",
    "def get_mitre_id(text):\n",
    "    min_dist = 25\n",
    "    ret = None\n",
    "    for k, tech_list in attack_pattern_dict.items():\n",
    "        for v in tech_list:\n",
    "            # v[0] -> attack pattern title, v[1] -> description\n",
    "            # lav_dist = 1 - Levenshtein.ratio(text, v[0])\n",
    "            d = (0.5*get_embedding_distance(text, v[0]) + 0.5*get_embedding_distance(text, v[1]))\n",
    "            if d < min_dist:\n",
    "                min_dist = d\n",
    "                # ret = [k, v]\n",
    "                ret = k\n",
    "    return ret, min_dist"
   ]
  },
  {
   "cell_type": "code",
   "execution_count": 38,
   "id": "eeb0e5b2",
   "metadata": {},
   "outputs": [],
   "source": [
    "def get_mitre_id_list(text, th=0.6):\n",
    "    ret = []\n",
    "    for k, tech_list in attack_pattern_dict.items():\n",
    "        for v in tech_list:\n",
    "            # v[0] -> attack pattern title, v[1] -> description\n",
    "            lav_dist = 1 - Levenshtein.ratio(text, v[0])\n",
    "            d = (0.5*get_embedding_distance(text, v[0]) + 0.5*get_embedding_distance(text, v[1]))\n",
    "            if d < th:\n",
    "                ret.append(k)\n",
    "    return list(set(ret))"
   ]
  },
  {
   "cell_type": "code",
   "execution_count": 32,
   "id": "5d451cb4",
   "metadata": {},
   "outputs": [],
   "source": [
    "def remove_consec_newline(s):\n",
    "    ret = s[0]\n",
    "    for x in s[1:]:\n",
    "        if not (x == ret[-1] and ret[-1]=='\\n'):\n",
    "            ret += x\n",
    "    return ret"
   ]
  },
  {
   "cell_type": "code",
   "execution_count": 39,
   "id": "261d625a",
   "metadata": {},
   "outputs": [],
   "source": [
    "def get_all_attack_patterns(fname, th=0.6):\n",
    "    mapped = {}\n",
    "    with open(fname, 'r', encoding='utf-8') as f:\n",
    "        text = f.read()\n",
    "    \n",
    "    text = remove_consec_newline(text)\n",
    "    text = text.replace('\\t', ' ')\n",
    "    text = text.replace(\"\\'\", \"'\")\n",
    "    sents_nltk = nltk.sent_tokenize(text)\n",
    "    sents = []\n",
    "    for x in sents_nltk:\n",
    "        sents += x.split('\\n')\n",
    "    for line in sents:\n",
    "        if len(line) > 0:\n",
    "            _id, dist = get_mitre_id(line)\n",
    "            if dist < th:\n",
    "                if _id not in mapped:\n",
    "                    mapped[_id] = dist, line\n",
    "                else:\n",
    "                    if dist < mapped[_id][0]:\n",
    "                        mapped[_id] = mapped[_id] = dist, line\n",
    "    return mapped"
   ]
  },
  {
   "cell_type": "code",
   "execution_count": 40,
   "id": "ec84574f",
   "metadata": {},
   "outputs": [],
   "source": [
    "def get_all_attack_patterns_list(fname, th=0.6):\n",
    "    mapped = {}\n",
    "    with open(fname, 'r', encoding='utf-8') as f:\n",
    "        text = f.read()\n",
    "    \n",
    "    text = remove_consec_newline(text)\n",
    "    text = text.replace('\\t', ' ')\n",
    "    text = text.replace(\"\\'\", \"'\")\n",
    "    sents_nltk = nltk.sent_tokenize(text)\n",
    "    sents = []\n",
    "    for x in sents_nltk:\n",
    "        sents += x.split('\\n')\n",
    "    for line in sents:\n",
    "        if len(line) > 0:\n",
    "            ret = get_mitre_id(line, th)\n",
    "            for x in ret:\n",
    "                mapped[x] = line\n",
    "    return mapped"
   ]
  },
  {
   "cell_type": "code",
   "execution_count": 42,
   "id": "9d714aae",
   "metadata": {},
   "outputs": [
    {
     "name": "stdout",
     "output_type": "stream",
     "text": [
      "T1505 (0.5310649275779724, 'exploit the webserver hosted on FreeBSD') Server Software Component\n",
      "T1040 (0.5937256217002869, 'monitor connections and network activity while residing on the FreeBSD host') Network Sniffing\n",
      "T1592 (0.3681303858757019, 'target and exploit the discovered hosts to exfil proprietary data') Gather Victim Host Information\n",
      "T1588 (0.4903438538312912, 'exploit it') Obtain Capabilities\n",
      "T1134 (0.38940680027008057, 'ability to create a new elevated process') Access Token Manipulation\n",
      "T1055 (0.30760031938552856, 'ability to inject a .dll or .so into a process') Process Injection\n"
     ]
    }
   ],
   "source": [
    "ret = get_all_attack_patterns('darpa-out/nation-state.txt', th=0.6)\n",
    "\n",
    "for k, v in ret.items():\n",
    "    print(k, v, attack_pattern_dict[k][0][0])"
   ]
  },
  {
   "cell_type": "code",
   "execution_count": 43,
   "id": "ae3758d5",
   "metadata": {},
   "outputs": [
    {
     "name": "stdout",
     "output_type": "stream",
     "text": [
      "T1185 (0.47015178203582764, 'exploiting Firefox 54.0.1 using a malicious ad server') Browser Session Hijacking\n",
      "T1204 (0.5067747831344604, 'attacker used putfile to') User Execution\n",
      "T1574 (0.5645609796047211, 'executed the drakon implant from the target disk using a privilege escalated execution capability') Hijack Execution Flow\n",
      "T1014 (0.5576980113983154, 'new root drakon implant process connected out to the operator console to give') Rootkit\n",
      "T1546 (0.5680103749036789, 'putfile profile') Event Triggered Execution\n"
     ]
    }
   ],
   "source": [
    "ret = get_all_attack_patterns('darpa-out/3.txt', th=0.6)\n",
    "\n",
    "for k, v in ret.items():\n",
    "    print(k, v, attack_pattern_dict[k][0][0])"
   ]
  },
  {
   "cell_type": "code",
   "execution_count": null,
   "id": "91c59251",
   "metadata": {},
   "outputs": [],
   "source": []
  }
 ],
 "metadata": {
  "kernelspec": {
   "display_name": "Python 3 (ipykernel)",
   "language": "python",
   "name": "python3"
  },
  "language_info": {
   "codemirror_mode": {
    "name": "ipython",
    "version": 3
   },
   "file_extension": ".py",
   "mimetype": "text/x-python",
   "name": "python",
   "nbconvert_exporter": "python",
   "pygments_lexer": "ipython3",
   "version": "3.8.10"
  }
 },
 "nbformat": 4,
 "nbformat_minor": 5
}

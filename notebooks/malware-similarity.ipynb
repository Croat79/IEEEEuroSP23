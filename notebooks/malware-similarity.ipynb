{
 "cells": [
  {
   "cell_type": "markdown",
   "id": "c06ce8b7",
   "metadata": {
    "id": "vovCUJxmER2I"
   },
   "source": [
    "### Import modules"
   ]
  },
  {
   "cell_type": "code",
   "execution_count": 5,
   "id": "69db5177",
   "metadata": {
    "executionInfo": {
     "elapsed": 711,
     "status": "ok",
     "timestamp": 1667488535661,
     "user": {
      "displayName": "Md Tanvirul Alam",
      "userId": "13388921323077428351"
     },
     "user_tz": 240
    },
    "id": "z4_HNc2WDn4m"
   },
   "outputs": [],
   "source": [
    "import numpy as np\n",
    "\n",
    "from sklearn import metrics\n",
    "from sklearn.datasets import make_blobs\n",
    "from sklearn.preprocessing import StandardScaler"
   ]
  },
  {
   "cell_type": "markdown",
   "id": "2c4ff716",
   "metadata": {
    "id": "7-dPTcJLEdTv"
   },
   "source": [
    "### Read all malware, threat actor and triples"
   ]
  },
  {
   "cell_type": "code",
   "execution_count": 6,
   "id": "5fc17d4b",
   "metadata": {
    "executionInfo": {
     "elapsed": 3,
     "status": "ok",
     "timestamp": 1667488539262,
     "user": {
      "displayName": "Md Tanvirul Alam",
      "userId": "13388921323077428351"
     },
     "user_tz": 240
    },
    "id": "63a38b25"
   },
   "outputs": [],
   "source": [
    "with open('all_malware.txt', 'r', encoding='utf-8') as f:\n",
    "    text = f.read()\n",
    "malware = []\n",
    "\n",
    "for line in text.split('\\n')[:-1]:\n",
    "    malware.append(line)"
   ]
  },
  {
   "cell_type": "code",
   "execution_count": 7,
   "id": "f523b472",
   "metadata": {
    "colab": {
     "base_uri": "https://localhost:8080/"
    },
    "executionInfo": {
     "elapsed": 448,
     "status": "ok",
     "timestamp": 1667488540645,
     "user": {
      "displayName": "Md Tanvirul Alam",
      "userId": "13388921323077428351"
     },
     "user_tz": 240
    },
    "id": "b88a9daf",
    "outputId": "757ab5be-c588-4465-da52-811c907d74a5"
   },
   "outputs": [
    {
     "data": {
      "text/plain": [
       "1300"
      ]
     },
     "execution_count": 7,
     "metadata": {},
     "output_type": "execute_result"
    }
   ],
   "source": [
    "len(malware)"
   ]
  },
  {
   "cell_type": "code",
   "execution_count": 8,
   "id": "7e7fe1b3",
   "metadata": {
    "executionInfo": {
     "elapsed": 1,
     "status": "ok",
     "timestamp": 1667488541938,
     "user": {
      "displayName": "Md Tanvirul Alam",
      "userId": "13388921323077428351"
     },
     "user_tz": 240
    },
    "id": "39c78f46"
   },
   "outputs": [],
   "source": [
    "with open('all_threat_actors.txt', 'r', encoding='utf-8') as f:\n",
    "    text = f.read()\n",
    "actors = []\n",
    "\n",
    "for line in text.split('\\n')[:-1]:\n",
    "    actors.append(line)"
   ]
  },
  {
   "cell_type": "code",
   "execution_count": 9,
   "id": "82af03e1",
   "metadata": {
    "colab": {
     "base_uri": "https://localhost:8080/"
    },
    "executionInfo": {
     "elapsed": 5,
     "status": "ok",
     "timestamp": 1667488543837,
     "user": {
      "displayName": "Md Tanvirul Alam",
      "userId": "13388921323077428351"
     },
     "user_tz": 240
    },
    "id": "40788657",
    "outputId": "28ee5375-35f0-4c02-92e1-b71aed84a8ca"
   },
   "outputs": [
    {
     "data": {
      "text/plain": [
       "235"
      ]
     },
     "execution_count": 9,
     "metadata": {},
     "output_type": "execute_result"
    }
   ],
   "source": [
    "len(actors)"
   ]
  },
  {
   "cell_type": "code",
   "execution_count": 10,
   "id": "d009bd20",
   "metadata": {
    "executionInfo": {
     "elapsed": 4,
     "status": "ok",
     "timestamp": 1667488544945,
     "user": {
      "displayName": "Md Tanvirul Alam",
      "userId": "13388921323077428351"
     },
     "user_tz": 240
    },
    "id": "e09cb977"
   },
   "outputs": [],
   "source": [
    "def read_triples(fname):\n",
    "    triples = []\n",
    "    with open(fname, 'r', encoding='utf-8') as f:\n",
    "        text = f.read()\n",
    "\n",
    "    for line in text.split('\\n'):\n",
    "        if len(line) > 0:\n",
    "            e1, r, e2 = line.split('\\t')\n",
    "            triples.append([e1, r, e2])\n",
    "    return triples"
   ]
  },
  {
   "cell_type": "code",
   "execution_count": 11,
   "id": "3962a0d0",
   "metadata": {
    "executionInfo": {
     "elapsed": 4,
     "status": "ok",
     "timestamp": 1667488546701,
     "user": {
      "displayName": "Md Tanvirul Alam",
      "userId": "13388921323077428351"
     },
     "user_tz": 240
    },
    "id": "64c820d5"
   },
   "outputs": [],
   "source": [
    "triples = read_triples('150_all.txt')"
   ]
  },
  {
   "cell_type": "code",
   "execution_count": 12,
   "id": "f5fea0d5",
   "metadata": {
    "executionInfo": {
     "elapsed": 2,
     "status": "ok",
     "timestamp": 1667488547992,
     "user": {
      "displayName": "Md Tanvirul Alam",
      "userId": "13388921323077428351"
     },
     "user_tz": 240
    },
    "id": "e6b7c0d7"
   },
   "outputs": [],
   "source": [
    "def get_malware_nodes(mal, triples):\n",
    "    nodes = set()\n",
    "    \n",
    "    for e1, r, e2 in triples:\n",
    "        if e1 == mal:\n",
    "            nodes.add((e2, r))\n",
    "        elif e2 == mal:\n",
    "            nodes.add((e1, r))\n",
    "    return nodes"
   ]
  },
  {
   "cell_type": "code",
   "execution_count": 13,
   "id": "48f94fdc",
   "metadata": {
    "executionInfo": {
     "elapsed": 1,
     "status": "ok",
     "timestamp": 1667488549171,
     "user": {
      "displayName": "Md Tanvirul Alam",
      "userId": "13388921323077428351"
     },
     "user_tz": 240
    },
    "id": "8e65a6e7"
   },
   "outputs": [],
   "source": [
    "def get_all_malware_nodes(triples):\n",
    "    malware_nodes = {}\n",
    "    for m in malware:\n",
    "        nodes = get_malware_nodes(m, triples)\n",
    "        if len(nodes) > 0:\n",
    "            malware_nodes[m] = nodes\n",
    "    return malware_nodes"
   ]
  },
  {
   "cell_type": "code",
   "execution_count": 14,
   "id": "ac298e88",
   "metadata": {
    "executionInfo": {
     "elapsed": 3,
     "status": "ok",
     "timestamp": 1667488550886,
     "user": {
      "displayName": "Md Tanvirul Alam",
      "userId": "13388921323077428351"
     },
     "user_tz": 240
    },
    "id": "1652dce3"
   },
   "outputs": [],
   "source": [
    "def get_all_actor_nodes(triples):\n",
    "    actor_nodes = {}\n",
    "    for m in actors:\n",
    "        nodes = get_malware_nodes(m, triples)\n",
    "        nodes_list = list(nodes)\n",
    "        for x in nodes_list:\n",
    "            if x[1] == 'hasAuthor':\n",
    "                mal_nodes = get_malware_nodes(x[0], triples)\n",
    "                for z in mal_nodes:\n",
    "                    if z[1] in ['targets', 'uses', 'exploits', 'indicates', 'isA', 'variantOf',]:\n",
    "                        nodes.add(z)\n",
    "#                     else:\n",
    "#                         nodes.add(x[0], )\n",
    "        if len(nodes) > 0:\n",
    "            actor_nodes[m] = nodes\n",
    "    return actor_nodes"
   ]
  },
  {
   "cell_type": "code",
   "execution_count": 15,
   "id": "c588e6bd",
   "metadata": {
    "executionInfo": {
     "elapsed": 306,
     "status": "ok",
     "timestamp": 1667488553430,
     "user": {
      "displayName": "Md Tanvirul Alam",
      "userId": "13388921323077428351"
     },
     "user_tz": 240
    },
    "id": "91ab23b8"
   },
   "outputs": [],
   "source": [
    "malware_nodes = get_all_malware_nodes(triples)"
   ]
  },
  {
   "cell_type": "code",
   "execution_count": 16,
   "id": "a6ea5c93",
   "metadata": {
    "executionInfo": {
     "elapsed": 2,
     "status": "ok",
     "timestamp": 1667488555202,
     "user": {
      "displayName": "Md Tanvirul Alam",
      "userId": "13388921323077428351"
     },
     "user_tz": 240
    },
    "id": "e1823ec7"
   },
   "outputs": [],
   "source": [
    "# malware_nodes"
   ]
  },
  {
   "cell_type": "code",
   "execution_count": 17,
   "id": "20452b0d",
   "metadata": {
    "executionInfo": {
     "elapsed": 2,
     "status": "ok",
     "timestamp": 1667488556915,
     "user": {
      "displayName": "Md Tanvirul Alam",
      "userId": "13388921323077428351"
     },
     "user_tz": 240
    },
    "id": "cd1a9302"
   },
   "outputs": [],
   "source": [
    "def get_distance(node1, node2, type='jaccard'):\n",
    "    union = node1.union(node2)\n",
    "    intersect = node1.intersection(node2)\n",
    "    if type == 'intersect':\n",
    "        return 1000-len(intersect)\n",
    "    elif type == 'jaccard':\n",
    "        return 1 - len(intersect)/len(union)\n",
    "    elif type == 'overlap':\n",
    "        return 1 - len(intersect)/min(len(node1), len(node2))"
   ]
  },
  {
   "cell_type": "code",
   "execution_count": 17,
   "id": "5b2fc4b4",
   "metadata": {
    "executionInfo": {
     "elapsed": 4,
     "status": "ok",
     "timestamp": 1667488557734,
     "user": {
      "displayName": "Md Tanvirul Alam",
      "userId": "13388921323077428351"
     },
     "user_tz": 240
    },
    "id": "c4107be4"
   },
   "outputs": [],
   "source": []
  },
  {
   "cell_type": "code",
   "execution_count": 19,
   "id": "1f07c074",
   "metadata": {
    "executionInfo": {
     "elapsed": 2,
     "status": "ok",
     "timestamp": 1667488573315,
     "user": {
      "displayName": "Md Tanvirul Alam",
      "userId": "13388921323077428351"
     },
     "user_tz": 240
    },
    "id": "e1244e1b"
   },
   "outputs": [],
   "source": [
    "def find_most_similar_malware(mal, triple_fname):\n",
    "    triples = read_triples(triple_fname)\n",
    "    malware_nodes = get_all_malware_nodes(triples)\n",
    "\n",
    "    malware_list = list(malware_nodes.keys())\n",
    "    mal_node_i = malware_nodes[mal]\n",
    "        \n",
    "    dist = []    \n",
    "    for j in range(len(malware_list)):\n",
    "            mal_node_j = malware_nodes[malware_list[j]]\n",
    "            dist.append([malware_list[j], get_distance(mal_node_i, mal_node_j, 'jaccard')])\n",
    "    dist.sort(key=lambda x: x[1])\n",
    "    \n",
    "    return dist[1:6]"
   ]
  },
  {
   "cell_type": "markdown",
   "id": "5602bb27",
   "metadata": {
    "id": "hSQh1SG4EkEM"
   },
   "source": [
    "### Find the malware most similar to FluBot"
   ]
  },
  {
   "cell_type": "code",
   "execution_count": 20,
   "id": "0187348d",
   "metadata": {
    "colab": {
     "base_uri": "https://localhost:8080/"
    },
    "executionInfo": {
     "elapsed": 4958,
     "status": "ok",
     "timestamp": 1667488580600,
     "user": {
      "displayName": "Md Tanvirul Alam",
      "userId": "13388921323077428351"
     },
     "user_tz": 240
    },
    "id": "79915c47",
    "outputId": "62d89e95-2a43-4cb7-8c49-4cc4b84db150"
   },
   "outputs": [
    {
     "data": {
      "text/plain": [
       "[['TeaBot', 0.7906976744186046],\n",
       " ['Medusa', 0.8064516129032258],\n",
       " ['Gustuff', 0.8115942028985508],\n",
       " ['Ghimob', 0.823943661971831],\n",
       " ['Faketoken', 0.8260869565217391]]"
      ]
     },
     "execution_count": 20,
     "metadata": {},
     "output_type": "execute_result"
    }
   ],
   "source": [
    "find_most_similar_malware('FluBot', '12k_all.txt')"
   ]
  },
  {
   "cell_type": "code",
   "execution_count": 21,
   "id": "7a95eebc",
   "metadata": {
    "executionInfo": {
     "elapsed": 5307,
     "status": "ok",
     "timestamp": 1667488585903,
     "user": {
      "displayName": "Md Tanvirul Alam",
      "userId": "13388921323077428351"
     },
     "user_tz": 240
    },
    "id": "c6f0f722"
   },
   "outputs": [],
   "source": [
    "triples = read_triples('12k_all.txt')\n",
    "malware_nodes = get_all_malware_nodes(triples)"
   ]
  },
  {
   "cell_type": "code",
   "execution_count": 22,
   "id": "b1e146da",
   "metadata": {
    "colab": {
     "base_uri": "https://localhost:8080/"
    },
    "executionInfo": {
     "elapsed": 6,
     "status": "ok",
     "timestamp": 1667488585903,
     "user": {
      "displayName": "Md Tanvirul Alam",
      "userId": "13388921323077428351"
     },
     "user_tz": 240
    },
    "id": "96f2abcc",
    "outputId": "1e426331-12b1-4fdf-e8ed-b287d2ef217a"
   },
   "outputs": [
    {
     "name": "stdout",
     "output_type": "stream",
     "text": [
      "{('ESET', 'targets'), ('UPS', 'targets'), ('WhatsApp', 'targets'), ('T1636', 'uses'), ('Correos', 'targets'), ('apps', 'targets'), ('T1635', 'uses'), ('T1512', 'uses'), ('Android', 'targets'), ('T1640', 'uses'), ('T1639', 'uses'), ('T1616', 'uses'), ('Spanish', 'targets'), ('T1406', 'uses'), ('trojan', 'isA'), ('T1625', 'uses'), ('T1513', 'uses'), ('German', 'targets'), ('T1582', 'uses'), ('T1409', 'uses'), ('T1629', 'uses'), ('T1418', 'uses'), ('ransomware', 'isA'), ('bank', 'targets'), ('T1626', 'uses'), ('T1481', 'uses'), ('Google', 'targets')}\n"
     ]
    }
   ],
   "source": [
    "mal_node_i = malware_nodes['FluBot']\n",
    "mal_node_j = malware_nodes['TeaBot']\n",
    "\n",
    "print(mal_node_i.intersection(mal_node_j))"
   ]
  },
  {
   "cell_type": "code",
   "execution_count": 23,
   "id": "a17cce9f",
   "metadata": {
    "executionInfo": {
     "elapsed": 5,
     "status": "ok",
     "timestamp": 1667488585904,
     "user": {
      "displayName": "Md Tanvirul Alam",
      "userId": "13388921323077428351"
     },
     "user_tz": 240
    },
    "id": "119520da"
   },
   "outputs": [],
   "source": [
    "def find_most_similar_threat_actor(act, triple_fname):\n",
    "    triples = read_triples(triple_fname)\n",
    "    actor_nodes = get_all_actor_nodes(triples)\n",
    "    \n",
    "    actor_list = list(actor_nodes.keys())\n",
    "    actor_node_i = actor_nodes[act]\n",
    "    \n",
    "    dist = []    \n",
    "    for j in range(len(actor_list)):\n",
    "            actor_node_j = actor_nodes[actor_list[j]]\n",
    "            dist.append([actor_list[j], get_distance(actor_node_i, actor_node_j, 'jaccard')])\n",
    "    dist.sort(key=lambda x: x[1])\n",
    "    \n",
    "    return dist[1:6]"
   ]
  },
  {
   "cell_type": "markdown",
   "id": "bc9e4643",
   "metadata": {
    "id": "yFsNyTdzEqjL"
   },
   "source": [
    "### Find the most similar threat actor to APT15"
   ]
  },
  {
   "cell_type": "code",
   "execution_count": 24,
   "id": "254302e0",
   "metadata": {
    "colab": {
     "base_uri": "https://localhost:8080/"
    },
    "executionInfo": {
     "elapsed": 1559,
     "status": "ok",
     "timestamp": 1667488588910,
     "user": {
      "displayName": "Md Tanvirul Alam",
      "userId": "13388921323077428351"
     },
     "user_tz": 240
    },
    "id": "918ad07b",
    "outputId": "4fce59c5-4874-4e91-b450-0589df2c786f"
   },
   "outputs": [
    {
     "data": {
      "text/plain": [
       "[['GREF', 0.5333333333333333],\n",
       " ['Boyusec', 0.574468085106383],\n",
       " ['Ke3chang', 0.5833333333333333],\n",
       " ['APT-C-50', 0.8163265306122449],\n",
       " ['Kitten', 0.8333333333333334]]"
      ]
     },
     "execution_count": 24,
     "metadata": {},
     "output_type": "execute_result"
    }
   ],
   "source": [
    "find_most_similar_threat_actor('APT15', '12k_all.txt')"
   ]
  },
  {
   "cell_type": "code",
   "execution_count": 25,
   "id": "b7d268ce",
   "metadata": {
    "executionInfo": {
     "elapsed": 1991,
     "status": "ok",
     "timestamp": 1667488591171,
     "user": {
      "displayName": "Md Tanvirul Alam",
      "userId": "13388921323077428351"
     },
     "user_tz": 240
    },
    "id": "d045bfe6"
   },
   "outputs": [],
   "source": [
    "triples = read_triples('12k_all.txt')\n",
    "actor_nodes = get_all_actor_nodes(triples)"
   ]
  },
  {
   "cell_type": "code",
   "execution_count": 26,
   "id": "4c676ee9",
   "metadata": {
    "colab": {
     "base_uri": "https://localhost:8080/"
    },
    "executionInfo": {
     "elapsed": 16,
     "status": "ok",
     "timestamp": 1667488591172,
     "user": {
      "displayName": "Md Tanvirul Alam",
      "userId": "13388921323077428351"
     },
     "user_tz": 240
    },
    "id": "4fa2ef7d",
    "outputId": "b9e6a78a-09cb-4ab9-b8e8-80f00e7b4c03"
   },
   "outputs": [
    {
     "name": "stdout",
     "output_type": "stream",
     "text": [
      "{('Spyware', 'isA'), ('Syria', 'targets'), ('Muslim', 'targets'), ('apps', 'targets'), ('RAT', 'isA'), ('Android', 'targets'), ('surveillanceware', 'isA'), ('TIBBIYJAWHAR', 'targets'), ('China', 'targets'), ('Telegram', 'targets'), ('Kuwait', 'targets'), ('TalkBox', 'targets'), ('Voxer', 'targets'), ('Uyghur', 'targets'), ('third-party', 'targets'), ('voice', 'targets'), ('music', 'targets'), ('Xinjiang', 'targets'), ('Google', 'targets'), ('Central', 'targets')}\n"
     ]
    }
   ],
   "source": [
    "mal_node_i = actor_nodes['APT15']\n",
    "mal_node_j = actor_nodes['Boyusec']\n",
    "\n",
    "print(mal_node_i.intersection(mal_node_j))"
   ]
  },
  {
   "cell_type": "code",
   "execution_count": null,
   "id": "441cbc4f",
   "metadata": {
    "id": "27aacf56"
   },
   "outputs": [],
   "source": []
  }
 ],
 "metadata": {
  "colab": {
   "provenance": []
  },
  "kernelspec": {
   "display_name": "Python 3 (ipykernel)",
   "language": "python",
   "name": "python3"
  },
  "language_info": {
   "codemirror_mode": {
    "name": "ipython",
    "version": 3
   },
   "file_extension": ".py",
   "mimetype": "text/x-python",
   "name": "python",
   "nbconvert_exporter": "python",
   "pygments_lexer": "ipython3",
   "version": "3.8.10"
  }
 },
 "nbformat": 4,
 "nbformat_minor": 5
}

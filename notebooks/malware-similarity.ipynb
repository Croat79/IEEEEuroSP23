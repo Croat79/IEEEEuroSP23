{
 "cells": [
  {
   "cell_type": "code",
   "execution_count": 1,
   "id": "90e7557f",
   "metadata": {},
   "outputs": [],
   "source": [
    "import numpy as np\n",
    "\n",
    "from sklearn.cluster import DBSCAN\n",
    "from sklearn import metrics\n",
    "from sklearn.datasets import make_blobs\n",
    "from sklearn.preprocessing import StandardScaler"
   ]
  },
  {
   "cell_type": "code",
   "execution_count": 2,
   "id": "63a38b25",
   "metadata": {},
   "outputs": [],
   "source": [
    "with open('all_malware.txt', 'r', encoding='utf-8') as f:\n",
    "    text = f.read()\n",
    "malware = []\n",
    "\n",
    "for line in text.split('\\n')[:-1]:\n",
    "    malware.append(line)"
   ]
  },
  {
   "cell_type": "code",
   "execution_count": 3,
   "id": "b88a9daf",
   "metadata": {},
   "outputs": [
    {
     "data": {
      "text/plain": [
       "1300"
      ]
     },
     "execution_count": 3,
     "metadata": {},
     "output_type": "execute_result"
    }
   ],
   "source": [
    "len(malware)"
   ]
  },
  {
   "cell_type": "code",
   "execution_count": 4,
   "id": "39c78f46",
   "metadata": {},
   "outputs": [],
   "source": [
    "with open('all_threat_actors.txt', 'r', encoding='utf-8') as f:\n",
    "    text = f.read()\n",
    "actors = []\n",
    "\n",
    "for line in text.split('\\n')[:-1]:\n",
    "    actors.append(line)"
   ]
  },
  {
   "cell_type": "code",
   "execution_count": 5,
   "id": "40788657",
   "metadata": {},
   "outputs": [
    {
     "data": {
      "text/plain": [
       "235"
      ]
     },
     "execution_count": 5,
     "metadata": {},
     "output_type": "execute_result"
    }
   ],
   "source": [
    "len(actors)"
   ]
  },
  {
   "cell_type": "code",
   "execution_count": 6,
   "id": "e09cb977",
   "metadata": {},
   "outputs": [],
   "source": [
    "def read_triples(fname):\n",
    "    triples = []\n",
    "    with open(fname, 'r', encoding='utf-8') as f:\n",
    "        text = f.read()\n",
    "\n",
    "    for line in text.split('\\n'):\n",
    "        if len(line) > 0:\n",
    "            e1, r, e2 = line.split('\\t')\n",
    "            triples.append([e1, r, e2])\n",
    "    return triples"
   ]
  },
  {
   "cell_type": "code",
   "execution_count": 7,
   "id": "64c820d5",
   "metadata": {},
   "outputs": [],
   "source": [
    "triples = read_triples('150_all.txt')"
   ]
  },
  {
   "cell_type": "code",
   "execution_count": 8,
   "id": "e6b7c0d7",
   "metadata": {},
   "outputs": [],
   "source": [
    "def get_malware_nodes(mal, triples):\n",
    "    nodes = set()\n",
    "    \n",
    "    for e1, r, e2 in triples:\n",
    "        if e1 == mal:\n",
    "            nodes.add((e2, r))\n",
    "        elif e2 == mal:\n",
    "            nodes.add((e1, r))\n",
    "    return nodes"
   ]
  },
  {
   "cell_type": "code",
   "execution_count": 9,
   "id": "8e65a6e7",
   "metadata": {},
   "outputs": [],
   "source": [
    "def get_all_malware_nodes(triples):\n",
    "    malware_nodes = {}\n",
    "    for m in malware:\n",
    "        nodes = get_malware_nodes(m, triples)\n",
    "        if len(nodes) > 0:\n",
    "            malware_nodes[m] = nodes\n",
    "    return malware_nodes"
   ]
  },
  {
   "cell_type": "code",
   "execution_count": 10,
   "id": "1652dce3",
   "metadata": {},
   "outputs": [],
   "source": [
    "def get_all_actor_nodes(triples):\n",
    "    actor_nodes = {}\n",
    "    for m in actors:\n",
    "        nodes = get_malware_nodes(m, triples)\n",
    "        nodes_list = list(nodes)\n",
    "        for x in nodes_list:\n",
    "            if x[1] == 'hasAuthor':\n",
    "                mal_nodes = get_malware_nodes(x[0], triples)\n",
    "                for z in mal_nodes:\n",
    "                    if z[1] in ['targets', 'uses', 'exploits', 'indicates', 'isA', 'variantOf',]:\n",
    "                        nodes.add(z)\n",
    "#                     else:\n",
    "#                         nodes.add(x[0], )\n",
    "        if len(nodes) > 0:\n",
    "            actor_nodes[m] = nodes\n",
    "    return actor_nodes"
   ]
  },
  {
   "cell_type": "code",
   "execution_count": 11,
   "id": "91ab23b8",
   "metadata": {},
   "outputs": [],
   "source": [
    "malware_nodes = get_all_malware_nodes(triples)"
   ]
  },
  {
   "cell_type": "code",
   "execution_count": 12,
   "id": "e1823ec7",
   "metadata": {},
   "outputs": [],
   "source": [
    "# malware_nodes"
   ]
  },
  {
   "cell_type": "code",
   "execution_count": 13,
   "id": "cd1a9302",
   "metadata": {},
   "outputs": [],
   "source": [
    "def get_distance(node1, node2, type='jaccard'):\n",
    "    union = node1.union(node2)\n",
    "    intersect = node1.intersection(node2)\n",
    "    if type == 'intersect':\n",
    "        return 1000-len(intersect)\n",
    "    elif type == 'jaccard':\n",
    "        return 1 - len(intersect)/len(union)\n",
    "    elif type == 'overlap':\n",
    "        return 1 - len(intersect)/min(len(node1), len(node2))"
   ]
  },
  {
   "cell_type": "code",
   "execution_count": null,
   "id": "c4107be4",
   "metadata": {},
   "outputs": [],
   "source": []
  },
  {
   "cell_type": "code",
   "execution_count": 14,
   "id": "74d16b82",
   "metadata": {},
   "outputs": [],
   "source": [
    "# from sklearn.manifold import TSNE"
   ]
  },
  {
   "cell_type": "code",
   "execution_count": 15,
   "id": "037c4c20",
   "metadata": {},
   "outputs": [],
   "source": [
    "# def cluster(triple_fname, topn=-1):\n",
    "#     triples = read_triples(triple_fname)\n",
    "#     malware_nodes = get_all_malware_nodes(triples)\n",
    "\n",
    "#     malware_list = list(malware_nodes.keys())\n",
    "    \n",
    "#     if topn > 0:\n",
    "#         malware_node_count = []\n",
    "#         for k, v in malware_nodes.items():\n",
    "#             malware_node_count.append([k, len(v)])\n",
    "#         malware_node_count.sort(key=lambda x: x[1], reverse=True)\n",
    "#         malware_list = [x[0] for x in malware_node_count[:topn]]\n",
    "\n",
    "        \n",
    "\n",
    "#     dist = []\n",
    "\n",
    "#     for i in range(len(malware_list)):\n",
    "#         di = []\n",
    "#         mal_node_i = malware_nodes[malware_list[i]]\n",
    "#         for j in range(len(malware_list)):\n",
    "#             mal_node_j = malware_nodes[malware_list[j]]\n",
    "#     #             print(malware_list[i], malware_list[j])\n",
    "#     #             print(mal_node_i)\n",
    "#     #             print(mal_node_j)\n",
    "#     #             print(get_distance(mal_node_i, mal_node_j))\n",
    "#     #             print('='*100)\n",
    "#             di.append(get_distance(mal_node_i, mal_node_j, 'jaccard'))\n",
    "#         dist.append(di)\n",
    "#     #     print(dist)\n",
    "    \n",
    "#     db = DBSCAN(metric='precomputed', eps=.85, min_samples=2)\n",
    "#     db.fit(dist)\n",
    "    \n",
    "#     core_samples_mask = np.zeros_like(db.labels_, dtype=bool)\n",
    "#     core_samples_mask[db.core_sample_indices_] = True\n",
    "#     labels = db.labels_\n",
    "    \n",
    "#     n_clusters_ = len(set(labels)) - (1 if -1 in labels else 0)\n",
    "#     n_noise_ = list(labels).count(-1)\n",
    "    \n",
    "#     X = TSNE(n_components=2, metric='precomputed').fit_transform(dist) \n",
    "    \n",
    "#     unique_labels = set(labels)\n",
    "#     colors = [plt.cm.Spectral(each) for each in np.linspace(0, 1, len(unique_labels))]\n",
    "#     for k, col in zip(unique_labels, colors):\n",
    "#         if k == -1:\n",
    "#             continue\n",
    "#             #Black used for noise.\n",
    "#             col = [0, 0, 0, 1]\n",
    "\n",
    "#         class_member_mask = labels == k\n",
    "\n",
    "#         xy = X[class_member_mask & core_samples_mask]\n",
    "#         plt.plot(\n",
    "#             xy[:, 0],\n",
    "#             xy[:, 1],\n",
    "#             \"o\",\n",
    "#             markerfacecolor=tuple(col),\n",
    "#             markeredgecolor=\"k\",\n",
    "#             markersize=14,\n",
    "#         )\n",
    "\n",
    "#         xy = X[class_member_mask & ~core_samples_mask]\n",
    "#         plt.plot(\n",
    "#             xy[:, 0],\n",
    "#             xy[:, 1],\n",
    "#             \"o\",\n",
    "#             markerfacecolor=tuple(col),\n",
    "#             markeredgecolor=\"k\",\n",
    "#             markersize=6,\n",
    "#         )\n",
    "\n",
    "#     plt.title(\"Estimated number of clusters: %d\" % n_clusters_)\n",
    "#     plt.show()"
   ]
  },
  {
   "cell_type": "code",
   "execution_count": 16,
   "id": "06027ee0",
   "metadata": {},
   "outputs": [],
   "source": [
    "# cluster('150_all.txt', -1)"
   ]
  },
  {
   "cell_type": "code",
   "execution_count": 17,
   "id": "14b3e057",
   "metadata": {},
   "outputs": [],
   "source": [
    "# cluster('12k_all.txt', -1)"
   ]
  },
  {
   "cell_type": "code",
   "execution_count": 18,
   "id": "78c6b6fc",
   "metadata": {},
   "outputs": [],
   "source": [
    "# cluster('12k_all.txt', 100)"
   ]
  },
  {
   "cell_type": "code",
   "execution_count": 315,
   "id": "5c19a784",
   "metadata": {},
   "outputs": [],
   "source": [
    "# triples = read_triples('150_all.txt')\n",
    "# malware_nodes = get_all_malware_nodes(triples)\n",
    "\n",
    "# malware_list = list(malware_nodes.keys())\n",
    "\n",
    "# dist = []\n",
    "\n",
    "# for i in range(len(malware_list)):\n",
    "#     di = []\n",
    "#     mal_node_i = malware_nodes[malware_list[i]]\n",
    "#     for j in range(len(malware_list)):\n",
    "#         mal_node_j = malware_nodes[malware_list[j]]\n",
    "# #             print(malware_list[i], malware_list[j])\n",
    "# #             print(mal_node_i)\n",
    "# #             print(mal_node_j)\n",
    "# #             print(get_distance(mal_node_i, mal_node_j))\n",
    "# #             print('='*100)\n",
    "#         di.append(get_distance(mal_node_i, mal_node_j))\n",
    "#     dist.append(di)\n",
    "# #     print(dist)"
   ]
  },
  {
   "cell_type": "code",
   "execution_count": 316,
   "id": "1272c7ec",
   "metadata": {},
   "outputs": [],
   "source": [
    "# db = DBSCAN(metric='precomputed', eps=0.2, min_samples=2)\n",
    "# db.fit(dist)"
   ]
  },
  {
   "cell_type": "code",
   "execution_count": 317,
   "id": "48da6688",
   "metadata": {},
   "outputs": [],
   "source": [
    "# core_samples_mask = np.zeros_like(db.labels_, dtype=bool)\n",
    "# core_samples_mask[db.core_sample_indices_] = True\n",
    "# labels = db.labels_"
   ]
  },
  {
   "cell_type": "code",
   "execution_count": 318,
   "id": "2a3b6915",
   "metadata": {},
   "outputs": [],
   "source": [
    "# n_clusters_ = len(set(labels)) - (1 if -1 in labels else 0)\n",
    "# n_noise_ = list(labels).count(-1)"
   ]
  },
  {
   "cell_type": "code",
   "execution_count": 319,
   "id": "ec91af98",
   "metadata": {},
   "outputs": [],
   "source": [
    "# import matplotlib.pyplot as plt\n",
    "# from sklearn.decomposition import PCA"
   ]
  },
  {
   "cell_type": "code",
   "execution_count": 320,
   "id": "bd22e04a",
   "metadata": {},
   "outputs": [],
   "source": [
    "# X = PCA(n_components=2).fit_transform(dist) "
   ]
  },
  {
   "cell_type": "code",
   "execution_count": 321,
   "id": "3381346d",
   "metadata": {},
   "outputs": [],
   "source": [
    "# # Black removed and is used for noise instead.\n",
    "# unique_labels = set(labels)\n",
    "# colors = [plt.cm.Spectral(each) for each in np.linspace(0, 1, len(unique_labels))]\n",
    "# for k, col in zip(unique_labels, colors):\n",
    "#     if k == -1:\n",
    "#         # Black used for noise.\n",
    "#         col = [0, 0, 0, 1]\n",
    "\n",
    "#     class_member_mask = labels == k\n",
    "\n",
    "#     xy = X[class_member_mask & core_samples_mask]\n",
    "#     plt.plot(\n",
    "#         xy[:, 0],\n",
    "#         xy[:, 1],\n",
    "#         \"o\",\n",
    "#         markerfacecolor=tuple(col),\n",
    "#         markeredgecolor=\"k\",\n",
    "#         markersize=14,\n",
    "#     )\n",
    "\n",
    "#     xy = X[class_member_mask & ~core_samples_mask]\n",
    "#     plt.plot(\n",
    "#         xy[:, 0],\n",
    "#         xy[:, 1],\n",
    "#         \"o\",\n",
    "#         markerfacecolor=tuple(col),\n",
    "#         markeredgecolor=\"k\",\n",
    "#         markersize=6,\n",
    "#     )\n",
    "\n",
    "# plt.title(\"Estimated number of clusters: %d\" % n_clusters_)\n",
    "# plt.show()"
   ]
  },
  {
   "cell_type": "code",
   "execution_count": 23,
   "id": "e1244e1b",
   "metadata": {},
   "outputs": [],
   "source": [
    "def find_most_similar_malware(mal, triple_fname):\n",
    "    triples = read_triples(triple_fname)\n",
    "    malware_nodes = get_all_malware_nodes(triples)\n",
    "\n",
    "    malware_list = list(malware_nodes.keys())\n",
    "    mal_node_i = malware_nodes[mal]\n",
    "        \n",
    "    dist = []    \n",
    "    for j in range(len(malware_list)):\n",
    "            mal_node_j = malware_nodes[malware_list[j]]\n",
    "            dist.append([malware_list[j], get_distance(mal_node_i, mal_node_j, 'jaccard')])\n",
    "    dist.sort(key=lambda x: x[1])\n",
    "    \n",
    "    return dist[1:6]"
   ]
  },
  {
   "cell_type": "code",
   "execution_count": 20,
   "id": "79915c47",
   "metadata": {},
   "outputs": [
    {
     "name": "stdout",
     "output_type": "stream",
     "text": [
      "{('T1474', 'uses'), ('T1640', 'uses'), ('AVG', 'targets'), ('T1616', 'uses'), ('Amazon', 'targets'), ('getty', 'targets'), ('UPS', 'targets'), ('Sparkasse', 'targets'), ('T1418', 'uses'), ('German', 'targets'), ('2019.', 'discoveredIn'), ('June', 'discoveredIn'), ('T1582', 'uses'), ('Argos', 'targets'), ('Proofpoint', 'targets'), ('T1409', 'uses'), ('ransomware', 'isA'), ('WhatsApp', 'targets'), ('020870ff50253429fb2aa56cd948c18329fe1ad3', 'indicates'), ('Ireland', 'targets'), ('T1456', 'uses'), ('T1625', 'uses'), ('Barcelona', 'has'), ('T1429', 'uses'), ('eb41401c48e8c336348f50a1ec6d90e75ae60460', 'indicates'), ('ZDNet', 'targets'), ('2018.', 'discoveredIn'), ('29.09.2021', 'discoveredIn'), ('Vodafone', 'targets'), ('Telegram', 'targets'), ('apps', 'targets'), ('Morrisons', 'targets'), ('Australian', 'targets'), ('access', 'targets'), ('T1639', 'uses'), ('Botnet', 'isA'), ('Chrome', 'targets'), ('malware', 'isA'), ('T1604', 'uses'), ('Netcraft', 'targets'), ('trojan', 'isA'), ('Correos', 'targets'), ('NCSC', 'targets'), ('plusbank24', 'targets'), ('WordPress', 'targets'), ('T1406', 'uses'), ('T1629', 'uses'), ('04.06.2021', 'discoveredIn'), ('NCSC-FI', 'targets'), ('DHL', 'targets'), ('Windows', 'targets'), ('T1634', 'uses'), ('Polish', 'targets'), ('Three', 'targets'), ('Australia', 'targets'), ('T1643', 'uses'), ('2020.', 'discoveredIn'), ('T1626', 'uses'), ('https://www.blackberry.com/us/en/forms/cylance/handraiser/emergency-incident-response-containment', 'indicates'), ('T1513', 'uses'), ('IKO', 'targets'), ('Spanish', 'targets'), ('Irish', 'targets'), ('Accessibility', 'targets'), ('T1636', 'uses'), ('Play', 'targets'), ('T1631', 'uses'), ('TechRadar', 'targets'), ('BlackBerry', 'targets'), ('bank', 'targets'), ('https://t.co/bVxrVWA4oO', 'indicates'), ('T1430', 'uses'), ('T1635', 'uses'), ('T1512', 'uses'), ('T1481', 'uses'), ('Apple', 'targets'), ('Germany', 'targets'), ('Swiss', 'targets'), ('ASDA', 'targets'), ('Android', 'targets'), ('Finland', 'targets'), ('Google', 'targets'), ('online', 'targets'), ('European', 'targets'), ('Consorsbank', 'targets'), ('SMS_malware', 'isA'), ('ESET', 'targets'), ('MediaPlayer', 'targets'), ('TCF', 'targets'), ('Poland', 'targets'), ('T1623', 'uses'), ('BSI', 'targets'), ('Coinbase', 'targets'), ('SpardaApp', 'targets'), ('T1461', 'uses'), ('Catalan', 'targets')}\n"
     ]
    },
    {
     "data": {
      "text/plain": [
       "[['TeaBot', 0.7906976744186046],\n",
       " ['Medusa', 0.8064516129032258],\n",
       " ['Gustuff', 0.8115942028985508],\n",
       " ['Ghimob', 0.823943661971831],\n",
       " ['Faketoken', 0.8260869565217391]]"
      ]
     },
     "execution_count": 20,
     "metadata": {},
     "output_type": "execute_result"
    }
   ],
   "source": [
    "find_most_similar_malware('FluBot', '12k_all.txt')"
   ]
  },
  {
   "cell_type": "code",
   "execution_count": 21,
   "id": "c6f0f722",
   "metadata": {},
   "outputs": [],
   "source": [
    "triples = read_triples('12k_all.txt')\n",
    "malware_nodes = get_all_malware_nodes(triples)"
   ]
  },
  {
   "cell_type": "code",
   "execution_count": 22,
   "id": "96f2abcc",
   "metadata": {},
   "outputs": [
    {
     "name": "stdout",
     "output_type": "stream",
     "text": [
      "{('T1481', 'uses'), ('T1616', 'uses'), ('T1640', 'uses'), ('T1635', 'uses'), ('T1512', 'uses'), ('apps', 'targets'), ('UPS', 'targets'), ('T1639', 'uses'), ('Android', 'targets'), ('German', 'targets'), ('T1626', 'uses'), ('T1582', 'uses'), ('T1513', 'uses'), ('Google', 'targets'), ('T1409', 'uses'), ('Spanish', 'targets'), ('ransomware', 'isA'), ('WhatsApp', 'targets'), ('trojan', 'isA'), ('Correos', 'targets'), ('ESET', 'targets'), ('T1636', 'uses'), ('T1625', 'uses'), ('bank', 'targets'), ('T1629', 'uses'), ('T1406', 'uses'), ('T1418', 'uses')}\n"
     ]
    }
   ],
   "source": [
    "mal_node_i = malware_nodes['FluBot']\n",
    "mal_node_j = malware_nodes['TeaBot']\n",
    "\n",
    "print(mal_node_i.intersection(mal_node_j))"
   ]
  },
  {
   "cell_type": "code",
   "execution_count": 24,
   "id": "119520da",
   "metadata": {},
   "outputs": [],
   "source": [
    "def find_most_similar_threat_actor(act, triple_fname):\n",
    "    triples = read_triples(triple_fname)\n",
    "    actor_nodes = get_all_actor_nodes(triples)\n",
    "    \n",
    "    actor_list = list(actor_nodes.keys())\n",
    "    actor_node_i = actor_nodes[act]\n",
    "    \n",
    "    dist = []    \n",
    "    for j in range(len(actor_list)):\n",
    "            actor_node_j = actor_nodes[actor_list[j]]\n",
    "            dist.append([actor_list[j], get_distance(actor_node_i, actor_node_j, 'jaccard')])\n",
    "    dist.sort(key=lambda x: x[1])\n",
    "    \n",
    "    return dist[1:6]"
   ]
  },
  {
   "cell_type": "code",
   "execution_count": 26,
   "id": "918ad07b",
   "metadata": {},
   "outputs": [
    {
     "data": {
      "text/plain": [
       "[['GREF', 0.5333333333333333],\n",
       " ['Boyusec', 0.574468085106383],\n",
       " ['Ke3chang', 0.5833333333333333],\n",
       " ['APT-C-50', 0.8163265306122449],\n",
       " ['Kitten', 0.8333333333333334]]"
      ]
     },
     "execution_count": 26,
     "metadata": {},
     "output_type": "execute_result"
    }
   ],
   "source": [
    "find_most_similar_threat_actor('APT15', '12k_all.txt')"
   ]
  },
  {
   "cell_type": "code",
   "execution_count": 27,
   "id": "d045bfe6",
   "metadata": {},
   "outputs": [],
   "source": [
    "triples = read_triples('12k_all.txt')\n",
    "actor_nodes = get_all_actor_nodes(triples)"
   ]
  },
  {
   "cell_type": "code",
   "execution_count": 28,
   "id": "4fa2ef7d",
   "metadata": {},
   "outputs": [
    {
     "name": "stdout",
     "output_type": "stream",
     "text": [
      "{('TIBBIYJAWHAR', 'targets'), ('Telegram', 'targets'), ('Kuwait', 'targets'), ('apps', 'targets'), ('third-party', 'targets'), ('Spyware', 'isA'), ('TalkBox', 'targets'), ('surveillanceware', 'isA'), ('Uyghur', 'targets'), ('Android', 'targets'), ('Voxer', 'targets'), ('Google', 'targets'), ('Syria', 'targets'), ('Xinjiang', 'targets'), ('China', 'targets'), ('music', 'targets'), ('Central', 'targets'), ('RAT', 'isA'), ('Muslim', 'targets'), ('voice', 'targets')}\n"
     ]
    }
   ],
   "source": [
    "mal_node_i = actor_nodes['APT15']\n",
    "mal_node_j = actor_nodes['Boyusec']\n",
    "\n",
    "print(mal_node_i.intersection(mal_node_j))"
   ]
  },
  {
   "cell_type": "code",
   "execution_count": null,
   "id": "27aacf56",
   "metadata": {},
   "outputs": [],
   "source": []
  }
 ],
 "metadata": {
  "kernelspec": {
   "display_name": "Python 3 (ipykernel)",
   "language": "python",
   "name": "python3"
  },
  "language_info": {
   "codemirror_mode": {
    "name": "ipython",
    "version": 3
   },
   "file_extension": ".py",
   "mimetype": "text/x-python",
   "name": "python",
   "nbconvert_exporter": "python",
   "pygments_lexer": "ipython3",
   "version": "3.8.10"
  }
 },
 "nbformat": 4,
 "nbformat_minor": 5
}
